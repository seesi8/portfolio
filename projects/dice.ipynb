{
 "cells": [
  {
   "cell_type": "code",
   "execution_count": 1,
   "metadata": {},
   "outputs": [
    {
     "name": "stdout",
     "output_type": "stream",
     "text": [
      "odds of getting a 2 0.027777777777777776\n",
      "odds of getting a 3 0.05555555555555555\n",
      "odds of getting a 4 0.08333333333333333\n",
      "odds of getting a 5 0.1111111111111111\n",
      "odds of getting a 6 0.1388888888888889\n",
      "odds of getting a 7 0.16666666666666666\n",
      "odds of getting a 8 0.1388888888888889\n",
      "odds of getting a 9 0.1111111111111111\n",
      "odds of getting a 10 0.08333333333333333\n",
      "odds of getting a 11 0.05555555555555555\n",
      "odds of getting a 12 0.027777777777777776\n"
     ]
    }
   ],
   "source": [
    "\n",
    "from itertools import product\n",
    "\n",
    "Die = input('How many sides does the dice have')\n",
    "Die = int(Die)\n",
    "Rolls = input('How many times do you roll the dice')\n",
    "Rolls = int(Rolls)\n",
    "list1 = []\n",
    "list2 = []\n",
    "number = 1\n",
    "nps = Die * Rolls +1\n",
    "Mpo = Die ** Rolls\n",
    "v = 0\n",
    "d= 0\n",
    "n = 0\n",
    "number2 = 0\n",
    "\n",
    "for y in range(0, nps):\n",
    "    list1.append(number)\n",
    "    number += 1\n",
    "for b in range(0, nps-1):\n",
    "    list2.append(number2)\n",
    "\n",
    "x = [1,2,3,4,5,6,7,8,9,10,11,12,13,14,15,16,17,18,19,20]\n",
    "y = [2]\n",
    "z = 0\n",
    "myProduct = product(x[:Die],repeat=Rolls)\n",
    "for p in myProduct:\n",
    "    w=type (p)\n",
    "    p=list(p)\n",
    "    w=type (p)\n",
    "    u=sum(p)\n",
    "    v += 1\n",
    "    for a in range( 0, nps-1):\n",
    "        if u == list1[n]:\n",
    "            list2[n] += 1\n",
    "            \n",
    "            \n",
    "        n += 1\n",
    "    n = 0\n",
    "\n",
    "    \n",
    "\n",
    "for c in range (0, nps-1):\n",
    "    quotients = [number / Mpo for number in list2]\n",
    "    if quotients[d] > 0:\n",
    "        percentage = \"{:.000000000000000000000%}\".format(quotients[d])\n",
    "        print('odds of getting a',d +1,quotients[d])\n",
    "    d+= 1"
   ]
  }
 ],
 "metadata": {
  "kernelspec": {
   "display_name": "Python 3.10.6 64-bit",
   "language": "python",
   "name": "python3"
  },
  "language_info": {
   "codemirror_mode": {
    "name": "ipython",
    "version": 3
   },
   "file_extension": ".py",
   "mimetype": "text/x-python",
   "name": "python",
   "nbconvert_exporter": "python",
   "pygments_lexer": "ipython3",
   "version": "3.10.6"
  },
  "orig_nbformat": 4,
  "vscode": {
   "interpreter": {
    "hash": "aee8b7b246df8f9039afb4144a1f6fd8d2ca17a180786b69acc140d282b71a49"
   }
  }
 },
 "nbformat": 4,
 "nbformat_minor": 2
}
